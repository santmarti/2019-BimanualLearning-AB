{
 "cells": [
  {
   "cell_type": "code",
   "execution_count": 1,
   "metadata": {},
   "outputs": [
    {
     "name": "stdout",
     "output_type": "stream",
     "text": [
      "-------------------------------------------------\n",
      "Created Exp Setup  human Debug:  False\n",
      "Created Learning Model bDebug False\n",
      "Loading RobotLearning Models:  5 folder twoarms strid dm-1-1-500-5\n",
      "data/twoarms/dm-1-1-500-5-model2.data with 2501 tuples\n",
      "data/twoarms/dm-1-1-500-5-im_model2.data with...\n",
      "load data/human/salient/map0.npy\n",
      "load data/human/salient/map1.npy\n",
      "load data/human/salient/map2.npy\n",
      "load data/human/salient/map3.npy\n",
      "load data/human/salient/map4.npy\n",
      "load data/human/salient/map5.npy\n",
      "load data/human/salient/map6.npy\n",
      "load data/human/salient/map7.npy\n",
      "Loading Salient Point Models\n"
     ]
    }
   ],
   "source": [
    "from mynotebooks import *\n",
    "%matplotlib inline  \n",
    "\n",
    "exp = Box2DWorld.ExpSetup(pos_nao=(0,0),pos_obj=(0,3),obj_type=\"box\",salientMode=\"minimum\", name='human') # minimum\n",
    "learn = RobotLearning.LearningModel(exp)\n",
    "nao,obj = exp.nao, exp.obj\n",
    "\n",
    "n = 2500\n",
    "tests_mdm, test_m = [[1,1,n/5,5]], [[0,n]]\n",
    "nm,ndm,nb,nbdm = tests_mdm[0]\n",
    "strid = \"dm-%d-%d-%d-%d\"%(nm,ndm,nb,nbdm)\n",
    "learn.load(folder='twoarms',strid=strid)\n",
    "SM = learn.SM\n",
    "exp.start()\n",
    "learn.myWorldLoop(5)"
   ]
  },
  {
   "cell_type": "code",
   "execution_count": 3,
   "metadata": {},
   "outputs": [
    {
     "name": "stdout",
     "output_type": "stream",
     "text": [
      "(-4, 4) (-1.5, 5.5)\n",
      "(0.21875, 0.9093750000000003)\n"
     ]
    }
   ],
   "source": [
    "print VectorFigUtils.x_lim, VectorFigUtils.y_lim\n",
    "s = learn.sampleSensoryMat(0)\n",
    "print s"
   ]
  },
  {
   "cell_type": "code",
   "execution_count": 29,
   "metadata": {},
   "outputs": [
    {
     "data": {
      "image/png": "[encoded data removed]",
      "text/plain": [
       "<matplotlib.figure.Figure at 0x11a8ab4d0>"
      ]
     },
     "metadata": {},
     "output_type": "display_data"
    }
   ],
   "source": [
    "# figure of the paper\n",
    "fig, ax = Box2DWorld.makeFigure(axes=[-1.5,1.5,-0.5,2])\n",
    "\n",
    "sds = learn.targets_sds(imodel=2,mode='mat',doit=True,online=False)\n",
    "\n",
    "l,r = sds[:2],sds[2:4]\n",
    "ax.plot(*l, marker='o', color='red',markersize=10)\n",
    "ax.plot(*r, marker='o', color='red',markersize=10)\n",
    "\n",
    "al,ar =   nao.getFinalPos(iarm=0),  nao.getFinalPos(iarm=1)\n",
    "\n",
    "ax.plot([l[0],al[0]],[l[1],al[1]], linestyle='--', color='r', lw=2)\n",
    "ax.plot([r[0],ar[0]],[r[1],ar[1]], linestyle='--', color='r', lw=2)\n",
    "\n",
    "Box2DWorld.plotAll(ax,centers=nao.getSalient(),specials=[0,3],label=\"s\",xlabel=\"x\",ylabel=\"y\",mainfont=16)\n",
    "plt.axis('off')\n",
    "plt.show()\n",
    "fig.savefig('imgs/robotsim.png', dpi=300, format='png')"
   ]
  },
  {
   "cell_type": "code",
   "execution_count": null,
   "metadata": {
    "collapsed": true
   },
   "outputs": [],
   "source": [
    "ax.plot([l[0],al[0]],[l[1],al[1]], linestyle='--', color='r', lw=2)\n"
   ]
  }
 ],
 "metadata": {
  "kernelspec": {
   "display_name": "Python 2",
   "language": "python",
   "name": "python2"
  },
  "language_info": {
   "codemirror_mode": {
    "name": "ipython",
    "version": 2
   },
   "file_extension": ".py",
   "mimetype": "text/x-python",
   "name": "python",
   "nbconvert_exporter": "python",
   "pygments_lexer": "ipython2",
   "version": "2.7.10"
  }
 },
 "nbformat": 4,
 "nbformat_minor": 1
}
