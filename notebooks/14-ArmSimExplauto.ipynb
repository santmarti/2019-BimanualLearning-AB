{
 "cells": [
  {
   "cell_type": "code",
   "execution_count": 2,
   "metadata": {
    "collapsed": false
   },
   "outputs": [
    {
     "name": "stdout",
     "output_type": "stream",
     "text": [
      "MSE:  5.26088817944\n"
     ]
    }
   ],
   "source": [
    "\n",
    "from explauto import Environment\n",
    "from explauto import SensorimotorModel\n",
    "\n",
    "simpleArmEnv = Environment.from_configuration('simple_arm', 'low_dimensional')\n",
    "#simpleArmModel = SensorimotorModel.from_configuration(simpleArmEnv.conf, 'nearest_neighbor', 'exact')\n",
    "simpleArmModel = SensorimotorModel.from_configuration(simpleArmEnv.conf, 'NN')\n",
    "\n",
    "random_motors = simpleArmEnv.random_motors(n=100)\n",
    "for m in random_motors:\n",
    "    s = simpleArmEnv.compute_sensori_effect(m)  # compute the sensori effect s of the motor command m through the environment\n",
    "    simpleArmModel.update(m, s)\n",
    "\n",
    "mse = 0\n",
    "for i in range(100):\n",
    "    m = simpleArmEnv.random_motors(n=1)[0, :]\n",
    "    s_pred = simpleArmModel.forward_prediction(m)\n",
    "    s = simpleArmEnv.compute_sensori_effect(m)\n",
    "    mse +=  sum(abs(s-s_pred))**2\n",
    "\n",
    "print \"MSE: \", mse\n",
    "#m = [0.47545994,  0.09538635,  0.45873452]\n",
    "#m = simpleArmEnv.compute_motor_command(m)\n",
    "#s = simpleArmEnv.compute_sensori_effect(m)\n",
    "#print \"Motor: \", m, \" has effect, coord in sensory space: \", s\n"
   ]
  },
  {
   "cell_type": "code",
   "execution_count": 2,
   "metadata": {
    "collapsed": false
   },
   "outputs": [
    {
     "ename": "ImportError",
     "evalue": "No module named Box2DWorld",
     "output_type": "error",
     "traceback": [
      "\u001b[1;31m---------------------------------------------------------------------------\u001b[0m",
      "\u001b[1;31mImportError\u001b[0m                               Traceback (most recent call last)",
      "\u001b[1;32m<ipython-input-2-212abd575baa>\u001b[0m in \u001b[0;36m<module>\u001b[1;34m()\u001b[0m\n\u001b[0;32m      1\u001b[0m \u001b[1;32mimport\u001b[0m \u001b[0mnumpy\u001b[0m \u001b[1;32mas\u001b[0m \u001b[0mnp\u001b[0m\u001b[1;33m\u001b[0m\u001b[0m\n\u001b[0;32m      2\u001b[0m \u001b[1;32mimport\u001b[0m \u001b[0mrandom\u001b[0m\u001b[1;33m\u001b[0m\u001b[0m\n\u001b[1;32m----> 3\u001b[1;33m \u001b[1;32mfrom\u001b[0m \u001b[0mBox2DWorld\u001b[0m \u001b[1;32mimport\u001b[0m \u001b[0mTIME_STEP\u001b[0m\u001b[1;33m,\u001b[0m \u001b[0mvel_iters\u001b[0m\u001b[1;33m,\u001b[0m \u001b[0mpos_iters\u001b[0m\u001b[1;33m\u001b[0m\u001b[0m\n\u001b[0m\u001b[0;32m      4\u001b[0m \u001b[1;32mimport\u001b[0m \u001b[0mBox2DWorld\u001b[0m\u001b[1;33m\u001b[0m\u001b[0m\n\u001b[0;32m      5\u001b[0m \u001b[1;32mfrom\u001b[0m \u001b[0mmatplotlib\u001b[0m \u001b[1;32mimport\u001b[0m \u001b[0mpyplot\u001b[0m \u001b[1;32mas\u001b[0m \u001b[0mplt\u001b[0m\u001b[1;33m\u001b[0m\u001b[0m\n",
      "\u001b[1;31mImportError\u001b[0m: No module named Box2DWorld"
     ]
    }
   ],
   "source": [
    "import numpy as np\n",
    "import random\n",
    "from Box2DWorld import TIME_STEP, vel_iters, pos_iters\n",
    "import Box2DWorld\n",
    "from matplotlib import pyplot as plt\n",
    "import matplotlib\n",
    "%matplotlib inline\n",
    "\n",
    "nparts = 2\n",
    "Box2DWorld.Arm(position=(0,0),nparts=nparts)   # Box2DWorld.arm for the update in the animateWorld\n",
    "\n",
    "m_mins = [-1.0, -1.0]   # 2 dimensions one arm (consider trying 4 dimensions for two arms)\n",
    "m_maxs = [ 1.0,  1.0]\n",
    "s_mins = [ -3.0,  0]\n",
    "s_maxs = [ 3.0,  3.3]\n",
    "\n",
    "class RobotArm(Environment):\n",
    "    def compute_motor_command(self, joint_pos_ag):\n",
    "        return joint_pos_ag\n",
    "\n",
    "    def compute_sensori_effect(self, joint_pos_env):\n",
    "        Box2DWorld.arm.gotoTargetJoints(joint_pos_env)\n",
    "        return Box2DWorld.arm.getFinalPos()\n",
    "\n",
    "    def plot(self, ax, m):\n",
    "        Box2DWorld.arm.gotoTargetJoints(m)\n",
    "        Box2DWorld.plotWorld(ax)\n",
    "        \n",
    "env = RobotArm(m_mins, m_maxs, s_mins, s_maxs)\n",
    "#model = SensorimotorModel.from_configuration(env.conf, 'nearest_neighbor', 'exact')\n",
    "model = SensorimotorModel.from_configuration(env.conf, 'ilo_gmm', 'default')"
   ]
  },
  {
   "cell_type": "code",
   "execution_count": 3,
   "metadata": {
    "collapsed": false
   },
   "outputs": [
    {
     "data": {
      "image/png": "[encoded data removed]",
      "text/plain": [
       "<matplotlib.figure.Figure at 0x10da40f90>"
      ]
     },
     "metadata": {},
     "output_type": "display_data"
    }
   ],
   "source": [
    "fig = plt.figure()\n",
    "ax = plt.axes(xlim=(-4, 4), ylim=(-1, 4))\n",
    "m = [-1,0]\n",
    "Box2DWorld.arm.gotoTargetJoints(m)\n",
    "Box2DWorld.plotWorld(ax)\n",
    "plt.show()\n",
    "\n"
   ]
  },
  {
   "cell_type": "markdown",
   "metadata": {},
   "source": [
    "### Learning with Explauto"
   ]
  },
  {
   "cell_type": "code",
   "execution_count": 3,
   "metadata": {
    "collapsed": false
   },
   "outputs": [
    {
     "data": {
      "image/png": "[encoded data removed]",
      "text/plain": [
       "<matplotlib.figure.Figure at 0x106d75f10>"
      ]
     },
     "metadata": {},
     "output_type": "display_data"
    }
   ],
   "source": [
    "fig = plt.figure()\n",
    "ax = plt.axes(xlim=(-4, 4), ylim=(-1, 4))\n",
    "positions = []\n",
    "for i in range(200):\n",
    "    t = [2*num-1 for num in np.random.rand(nparts)]\n",
    "    Box2DWorld.arm.gotoTargetJoints(t)    \n",
    "    endpos = Box2DWorld.arm.getFinalPos()\n",
    "    model.update(t, endpos)\n",
    "    positions.append(endpos)\n",
    "    #plotting\n",
    "    Box2DWorld.plotWorld(ax)\n",
    "    ax.plot(*endpos, marker='o', color='red')\n"
   ]
  },
  {
   "cell_type": "markdown",
   "metadata": {},
   "source": [
    "### Forward prediction Error"
   ]
  },
  {
   "cell_type": "code",
   "execution_count": 5,
   "metadata": {
    "collapsed": false
   },
   "outputs": [
    {
     "data": {
      "image/png": "[encoded data removed]",
      "text/plain": [
       "<matplotlib.figure.Figure at 0x10ea30350>"
      ]
     },
     "metadata": {},
     "output_type": "display_data"
    }
   ],
   "source": [
    "t = [2*num-1 for num in np.random.rand(nparts)]\n",
    "Box2DWorld.arm.gotoTargetJoints(t)    \n",
    "endpos = Box2DWorld.arm.getFinalPos()\n",
    "pos_pred = model.forward_prediction(t)\n",
    "\n",
    "fig = plt.figure()\n",
    "ax = plt.axes(xlim=(-4, 4), ylim=(-1, 4))\n",
    "Box2DWorld.plotWorld(ax)\n",
    "ax.plot(*pos_pred, marker='o', color='red')\n",
    "plt.show()"
   ]
  },
  {
   "cell_type": "code",
   "execution_count": 6,
   "metadata": {
    "collapsed": false
   },
   "outputs": [
    {
     "name": "stdout",
     "output_type": "stream",
     "text": [
      "Joint angles:  [-0.8862640261650085, 0.3276180624961853]\n",
      "End position:  [2.0366759300231934, 2.347571611404419]\n",
      "Forward Position Predicton :  [ 2.21184829  2.22702557]\n",
      "\n",
      "Total mse forward prediction :  5.76333499271\n"
     ]
    }
   ],
   "source": [
    "mse = 0\n",
    "for i in range(100):\n",
    "    t = [2*num-1 for num in np.random.rand(nparts)]\n",
    "    Box2DWorld.arm.gotoTargetJoints(t)    \n",
    "    endpos = Box2DWorld.arm.getFinalPos()\n",
    "    jangles = Box2DWorld.arm.getJointAngles()\n",
    "    \n",
    "    pos_pred = model.forward_prediction(t)\n",
    "    \n",
    "    if(i<1):\n",
    "        print \"Joint angles: \", jangles\n",
    "        print \"End position: \", endpos\n",
    "        print \"Forward Position Predicton : \", pos_pred\n",
    "\n",
    "    mse +=  sum(abs(endpos-pos_pred))**2\n",
    "\n",
    "print \"\\nTotal mse forward prediction : \", mse"
   ]
  },
  {
   "cell_type": "markdown",
   "metadata": {},
   "source": [
    "### Inverse prediction Error"
   ]
  },
  {
   "cell_type": "code",
   "execution_count": 14,
   "metadata": {
    "collapsed": false
   },
   "outputs": [
    {
     "data": {
      "image/png": "[encoded data removed]",
      "text/plain": [
       "<matplotlib.figure.Figure at 0x10a254350>"
      ]
     },
     "metadata": {},
     "output_type": "display_data"
    }
   ],
   "source": [
    "p = random.choice(positions)\n",
    "jangles_pred = model.inverse_prediction(p)\n",
    "Box2DWorld.arm.gotoTargetJoints(jangles_pred)    \n",
    "endpos = Box2DWorld.arm.getFinalPos()\n",
    "\n",
    "fig = plt.figure()\n",
    "ax = plt.axes(xlim=(-4, 4), ylim=(-1, 4))\n",
    "Box2DWorld.plotWorld(ax)\n",
    "ax.plot(*p, marker='o', color='red')\n",
    "ax.plot(*endpos, marker='o', color='green')\n",
    "plt.show()"
   ]
  },
  {
   "cell_type": "code",
   "execution_count": 15,
   "metadata": {
    "collapsed": false
   },
   "outputs": [
    {
     "name": "stdout",
     "output_type": "stream",
     "text": [
      "Position:  [-1.0249475240707397, 2.9415454864501953]\n",
      "Inverse Joint Predicton :  [ 0.39402156 -0.13166214]\n",
      "[-0.05646169  0.01284742]\n",
      "5.98224832385\n"
     ]
    }
   ],
   "source": [
    "mse = 0\n",
    "for i in range(100):\n",
    "    p = random.choice(positions)\n",
    "    jangles_pred = model.inverse_prediction(p)\n",
    "    jangles_pred = np.clip(jangles_pred, -1, 1)\n",
    "    Box2DWorld.arm.gotoTargetJoints(jangles_pred)    \n",
    "    endpos = np.array(Box2DWorld.arm.getFinalPos())\n",
    "\n",
    "    if(i<1):\n",
    "        print \"Position: \", p\n",
    "        print \"Inverse Joint Predicton : \", jangles_pred\n",
    "        print endpos-p\n",
    "        \n",
    "    mse +=  sum(abs(p-endpos))**2\n",
    "\n",
    "print mse"
   ]
  }
 ],
 "metadata": {
  "kernelspec": {
   "display_name": "Python 2",
   "language": "python",
   "name": "python2"
  },
  "language_info": {
   "codemirror_mode": {
    "name": "ipython",
    "version": 2
   },
   "file_extension": ".py",
   "mimetype": "text/x-python",
   "name": "python",
   "nbconvert_exporter": "python",
   "pygments_lexer": "ipython2",
   "version": "2.7.10"
  }
 },
 "nbformat": 4,
 "nbformat_minor": 0
}
